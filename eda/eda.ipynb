{
 "cells": [
  {
   "cell_type": "code",
   "execution_count": 34,
   "metadata": {},
   "outputs": [],
   "source": [
    "import pandas as pd\n",
    "import matplotlib.pyplot as plt\n",
    "import seaborn as sns; sns.set()"
   ]
  },
  {
   "cell_type": "code",
   "execution_count": 3,
   "metadata": {},
   "outputs": [
    {
     "data": {
      "text/html": [
       "<div>\n",
       "<style scoped>\n",
       "    .dataframe tbody tr th:only-of-type {\n",
       "        vertical-align: middle;\n",
       "    }\n",
       "\n",
       "    .dataframe tbody tr th {\n",
       "        vertical-align: top;\n",
       "    }\n",
       "\n",
       "    .dataframe thead th {\n",
       "        text-align: right;\n",
       "    }\n",
       "</style>\n",
       "<table border=\"1\" class=\"dataframe\">\n",
       "  <thead>\n",
       "    <tr style=\"text-align: right;\">\n",
       "      <th></th>\n",
       "      <th>SOPInstanceUID</th>\n",
       "      <th>Target</th>\n",
       "    </tr>\n",
       "  </thead>\n",
       "  <tbody>\n",
       "    <tr>\n",
       "      <th>0</th>\n",
       "      <td>1.2.826.0.1.3680043.8.498.10025629581362719970...</td>\n",
       "      <td>0</td>\n",
       "    </tr>\n",
       "    <tr>\n",
       "      <th>1</th>\n",
       "      <td>1.2.826.0.1.3680043.8.498.10036150326276641158...</td>\n",
       "      <td>15</td>\n",
       "    </tr>\n",
       "    <tr>\n",
       "      <th>2</th>\n",
       "      <td>1.2.826.0.1.3680043.8.498.10038426859954986240...</td>\n",
       "      <td>12</td>\n",
       "    </tr>\n",
       "    <tr>\n",
       "      <th>3</th>\n",
       "      <td>1.2.826.0.1.3680043.8.498.10050991192143676483...</td>\n",
       "      <td>14</td>\n",
       "    </tr>\n",
       "    <tr>\n",
       "      <th>4</th>\n",
       "      <td>1.2.826.0.1.3680043.8.498.10053309524595490852...</td>\n",
       "      <td>3</td>\n",
       "    </tr>\n",
       "    <tr>\n",
       "      <th>...</th>\n",
       "      <td>...</td>\n",
       "      <td>...</td>\n",
       "    </tr>\n",
       "    <tr>\n",
       "      <th>1733</th>\n",
       "      <td>1.2.826.0.1.3680043.8.498.99711016467406172920...</td>\n",
       "      <td>14</td>\n",
       "    </tr>\n",
       "    <tr>\n",
       "      <th>1734</th>\n",
       "      <td>1.2.826.0.1.3680043.8.498.99727280485333900933...</td>\n",
       "      <td>11</td>\n",
       "    </tr>\n",
       "    <tr>\n",
       "      <th>1735</th>\n",
       "      <td>1.2.826.0.1.3680043.8.498.99935008698914755885...</td>\n",
       "      <td>3</td>\n",
       "    </tr>\n",
       "    <tr>\n",
       "      <th>1736</th>\n",
       "      <td>1.2.826.0.1.3680043.8.498.99969671777553755311...</td>\n",
       "      <td>2</td>\n",
       "    </tr>\n",
       "    <tr>\n",
       "      <th>1737</th>\n",
       "      <td>1.2.826.0.1.3680043.8.498.99979421603039894766...</td>\n",
       "      <td>2</td>\n",
       "    </tr>\n",
       "  </tbody>\n",
       "</table>\n",
       "<p>1738 rows × 2 columns</p>\n",
       "</div>"
      ],
      "text/plain": [
       "                                         SOPInstanceUID Target\n",
       "0     1.2.826.0.1.3680043.8.498.10025629581362719970...     0 \n",
       "1     1.2.826.0.1.3680043.8.498.10036150326276641158...    15 \n",
       "2     1.2.826.0.1.3680043.8.498.10038426859954986240...    12 \n",
       "3     1.2.826.0.1.3680043.8.498.10050991192143676483...    14 \n",
       "4     1.2.826.0.1.3680043.8.498.10053309524595490852...     3 \n",
       "...                                                 ...    ...\n",
       "1733  1.2.826.0.1.3680043.8.498.99711016467406172920...    14 \n",
       "1734  1.2.826.0.1.3680043.8.498.99727280485333900933...    11 \n",
       "1735  1.2.826.0.1.3680043.8.498.99935008698914755885...     3 \n",
       "1736  1.2.826.0.1.3680043.8.498.99969671777553755311...     2 \n",
       "1737  1.2.826.0.1.3680043.8.498.99979421603039894766...     2 \n",
       "\n",
       "[1738 rows x 2 columns]"
      ]
     },
     "execution_count": 3,
     "metadata": {},
     "output_type": "execute_result"
    }
   ],
   "source": [
    "csv_path = \"/Users/a5chin/datasets/unifesp-x-ray-body-part-classifier/train.csv\"\n",
    "df = pd.read_csv(csv_path)\n",
    "df"
   ]
  },
  {
   "cell_type": "code",
   "execution_count": 30,
   "metadata": {},
   "outputs": [],
   "source": [
    "labels = []\n",
    "\n",
    "for i in range(len(df)):\n",
    "    targets = df[\"Target\"].iloc[i].split(\" \")\n",
    "    for target in targets:\n",
    "        if target.isdecimal():\n",
    "            target = int(target)\n",
    "            labels.append(target)"
   ]
  },
  {
   "cell_type": "code",
   "execution_count": 37,
   "metadata": {},
   "outputs": [
    {
     "data": {
      "text/plain": [
       "(array([ 92.,  54.,  81., 738.,   9.,  25.,  78.,  17.,  15.,  74.,  25.,\n",
       "        110.,  26.,  87., 120.,  71.,  41.,  23.,  10.,  15.,  64., 105.]),\n",
       " array([ 0.        ,  0.95454545,  1.90909091,  2.86363636,  3.81818182,\n",
       "         4.77272727,  5.72727273,  6.68181818,  7.63636364,  8.59090909,\n",
       "         9.54545455, 10.5       , 11.45454545, 12.40909091, 13.36363636,\n",
       "        14.31818182, 15.27272727, 16.22727273, 17.18181818, 18.13636364,\n",
       "        19.09090909, 20.04545455, 21.        ]),\n",
       " <BarContainer object of 22 artists>)"
      ]
     },
     "execution_count": 37,
     "metadata": {},
     "output_type": "execute_result"
    },
    {
     "data": {
      "image/png": "[encoded data removed]",
      "text/plain": [
       "<Figure size 432x288 with 1 Axes>"
      ]
     },
     "metadata": {},
     "output_type": "display_data"
    }
   ],
   "source": [
    "plt.hist(labels, bins=len(set(labels)))"
   ]
  }
 ],
 "metadata": {
  "interpreter": {
   "hash": "d0676a6212278f54bd5675c3723af67fa8a196787122f8413b9ad6cb216ed435"
  },
  "kernelspec": {
   "display_name": "Python 3.9.12 ('x-ray')",
   "language": "python",
   "name": "python3"
  },
  "language_info": {
   "codemirror_mode": {
    "name": "ipython",
    "version": 3
   },
   "file_extension": ".py",
   "mimetype": "text/x-python",
   "name": "python",
   "nbconvert_exporter": "python",
   "pygments_lexer": "ipython3",
   "version": "3.9.12"
  },
  "orig_nbformat": 4
 },
 "nbformat": 4,
 "nbformat_minor": 2
}
